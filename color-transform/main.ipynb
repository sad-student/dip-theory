{
 "cells": [
  {
   "cell_type": "markdown",
   "metadata": {
    "collapsed": true,
    "pycharm": {
     "name": "#%% md\n"
    }
   },
   "source": [
    "# Цветовые схемы. Преобразования цветовых схем."
   ]
  },
  {
   "cell_type": "code",
   "execution_count": null,
   "metadata": {
    "pycharm": {
     "name": "#%% code\n"
    }
   },
   "outputs": [],
   "source": [
    "%matplotlib ipympl\n",
    "import matplotlib.pyplot as plt\n",
    "import numpy as np\n",
    "\n",
    "import random\n",
    "import pathlib\n",
    "\n",
    "from matplotlib.colors import LinearSegmentedColormap\n",
    "import scipy.spatial.transform.rotation"
   ]
  },
  {
   "cell_type": "code",
   "execution_count": null,
   "metadata": {
    "pycharm": {
     "name": "#%%\n"
    }
   },
   "outputs": [],
   "source": [
    "path = \"img/medium\"\n",
    "collection = images = [p for p in pathlib.Path(path).iterdir() if p.suffix in [\".jpg\", \".jpeg\"]]\n",
    "img = plt.imread(random.choice(collection))\n",
    "\n",
    "plt.close(fig=1)\n",
    "plt.figure(num=1)\n",
    "plt.gca().imshow(img)\n",
    "plt.gca().set_axis_off()\n",
    "plt.show()"
   ]
  },
  {
   "cell_type": "code",
   "execution_count": null,
   "metadata": {
    "pycharm": {
     "name": "#%%\n"
    }
   },
   "outputs": [],
   "source": [
    "colormaps = [\n",
    "    [\"Reds\", \"Greens\", \"Blues\"],\n",
    "    [\n",
    "        LinearSegmentedColormap.from_list(\"BkR\", [\"Black\", \"Red\"]),\n",
    "        LinearSegmentedColormap.from_list(\"BkG\", [\"Black\", \"Green\"]),\n",
    "        LinearSegmentedColormap.from_list(\"BkBu\", [\"Black\", \"Blue\"])\n",
    "    ],\n",
    "]\n",
    "plt.close(fig=2)\n",
    "plt.figure(num=2)\n",
    "for cm in range(len(colormaps)):\n",
    "    for ch in range(len(colormaps[cm])):\n",
    "        plt.subplot(2, 3, cm*3 + ch+1).imshow(img[:, :, ch], cmap=colormaps[cm][ch])\n",
    "\n",
    "for axes in plt.gcf().findobj(plt.Axes):\n",
    "    axes.set_axis_off()\n",
    "plt.show()"
   ]
  },
  {
   "cell_type": "code",
   "execution_count": null,
   "metadata": {
    "pycharm": {
     "name": "#%%\n"
    }
   },
   "outputs": [],
   "source": [
    "# RGB cube\n",
    "\n",
    "granularity = 8\n",
    "edge_len= int(256 / granularity)\n",
    "color_sl = complex(0, edge_len + 1)\n",
    "cube_grid = np.mgrid[0:1:color_sl, 0:1:color_sl, 0:1:color_sl]\n",
    "cube = (cube_grid[0] < 1) & (cube_grid[1] < 1) & (cube_grid[2] < 1)\n",
    "\n",
    "# values are the same (laying in range [0, 1])\n",
    "colors = np.transpose(cube_grid, (1, 2, 3, 0))\n",
    "\n",
    "plt.close(fig=3)\n",
    "plt.figure(num=3).add_subplot(projection='3d')\n",
    "plt.gca().voxels(cube_grid[0], cube_grid[1], cube_grid[2], # grid points positions along x, y and z axes\n",
    "                 cube[:-1, :-1, :-1], facecolors=colors[:-1, :-1, :-1], # where to fill grid and corresponing colors\n",
    "                 shade=False)\n",
    "\n",
    "plt.gca().set_xlabel(\"R\")\n",
    "plt.gca().set_ylabel(\"G\")\n",
    "plt.gca().set_zlabel(\"B\")\n",
    "plt.show()"
   ]
  },
  {
   "cell_type": "code",
   "execution_count": null,
   "metadata": {},
   "outputs": [],
   "source": [
    "#CMY cube\n",
    "\n",
    "plt.close(fig=4)\n",
    "plt.figure(num=4).add_subplot(projection='3d')\n",
    "plt.gca().voxels(cube_grid[0], cube_grid[1], cube_grid[2], \n",
    "                 cube[:-1, :-1, :-1], facecolors=(1 - colors[:-1, :-1, :-1]), \n",
    "                 shade=False)\n",
    "\n",
    "plt.gca().set_xlabel(\"C\")\n",
    "plt.gca().set_ylabel(\"M\")\n",
    "plt.gca().set_zlabel(\"Y\")\n",
    "plt.show()"
   ]
  },
  {
   "cell_type": "code",
   "execution_count": null,
   "metadata": {
    "pycharm": {
     "name": "#%%\n"
    }
   },
   "outputs": [],
   "source": [
    "z_axis_rot = -np.pi/6 # introduce rotation in xOy plane to avoid equations matrix singularity\n",
    "cube_rotation = scipy.spatial.transform.Rotation.from_euler(\"xyz\", (np.pi / 4, -np.arctan(1/np.sqrt(2)), z_axis_rot))\n",
    "cube_scaled_grid = np.transpose(cube_grid / np.sqrt(3), (1, 2, 3, 0))\n",
    "cube_rot_grid = np.reshape(cube_rotation.apply(np.reshape(cube_scaled_grid, newshape=(-1, 3))), cube_scaled_grid.shape)\n",
    "\n",
    "plt.close(fig=5)\n",
    "plt.figure(num=5).add_subplot(projection='3d')\n",
    "plt.gca().voxels(cube_rot_grid[..., 0], cube_rot_grid[..., 1], cube_rot_grid[..., 2], \n",
    "                 cube[:-1, :-1, :-1], facecolors=colors[1:, 1:, 1:], \n",
    "                 shade=False)\n",
    "plt.gca().scatter([0], [0], [1.0], marker='o')\n",
    "plt.show()"
   ]
  },
  {
   "cell_type": "code",
   "execution_count": null,
   "metadata": {
    "scrolled": false
   },
   "outputs": [],
   "source": [
    "# linear equations systems to find intersection points of cube's faces and \n",
    "# current ray that rotates around z-axis in parralel to xOy plane\n",
    "# (6 systems of 3 linear equations for each cube face (with free terms))\n",
    "equations = np.zeros(shape=(6, 3, 4), dtype=np.float64)\n",
    "\n",
    "planes = np.zeros(shape=(6, 4), dtype=np.float64)\n",
    "corners = np.array(cube_rot_grid[0:2, 0:2, 0:2, :] * (edge_len)).reshape((-1, 3)).astype(np.float64)\n",
    "order = [0, 1, 3, 7, 6, 4, 0, 1] # special path throw cube verticies\n",
    "\n",
    "# express planes, that contain rotated cube faces, in equations\n",
    "for p in range(len(order) - 2):\n",
    "    planes[p][0:3] = np.cross(corners[order[p]] - corners[order[p+1]], corners[order[p+2]] - corners[order[p+1]])\n",
    "    planes[p][3] = np.sum(planes[p][0:3] * corners[order[p+1]])\n",
    "\n",
    "equations[:, 0, :] = planes\n",
    "# HS[I/V/L] cylinder\n",
    "cylinder_shape = (\n",
    "    complex(0, int(180 / granularity)),\n",
    "    complex(0, int((180 / granularity) * 2 * np.pi)),\n",
    "    complex(0, int(edge_len))\n",
    ")\n",
    "cylinder_size = (1.0, 2*np.pi, 1.0)\n",
    "cylinder_grid = np.mgrid[0:cylinder_size[0]:cylinder_shape[0], 0:cylinder_size[1]:cylinder_shape[1], 0:cylinder_size[2]:cylinder_shape[2]]\n",
    "cylinder = cylinder_grid[0] < cylinder_size[0]\n",
    "cylinder_grid = cylinder_grid.transpose((1, 2, 3, 0)).astype(np.float64)\n",
    "cylinder_colors = np.zeros(shape=cylinder_grid.shape)\n",
    "\n",
    "for h in range(int(cylinder_shape[2].imag)-1): # decrease range by 1\n",
    "    center = np.array([0, 0, cylinder_grid[0][0][h][2]])\n",
    "    equations[:, 1, :] =  np.array([0, 0, 1, cylinder_grid[0][0][h][2]])\n",
    "    print(f\"{center}\")\n",
    "    for t in range(int(cylinder_shape[1].imag)-1): # decrease range by 1\n",
    "        direction_vector = np.array([np.cos(cylinder_grid[0][t][h][1] - z_axis_rot), -np.sin(cylinder_grid[0][t][h][1] - z_axis_rot), 0])\n",
    "        equations[:, 2, :] = np.array([np.cos(cylinder_grid[0][t][h][1] - np.pi/2 - z_axis_rot), -np.sin(cylinder_grid[0][t][h][1] - np.pi/2 - z_axis_rot), 0, 0])\n",
    "        scale_points = np.linalg.solve(equations[:, :, 0:3], np.squeeze(equations[:, :, 3]))\n",
    "        direction_mask = np.argwhere(np.all(scale_points * direction_vector >= 0, axis=1)) # works well, but np.dot should be used instead of multiplication (or not)\n",
    "        rate = np.amin(np.linalg.norm(scale_points[direction_mask] - center, axis=2)) / cylinder_size[0]\n",
    "        for r in range(int(cylinder_shape[0].imag)-1): # decrease range by 1\n",
    "            cartessian_coordinates = np.array([\n",
    "                cylinder_grid[r][t][h][0]*np.cos(cylinder_grid[r][t][h][1] + z_axis_rot)*rate,\n",
    "                cylinder_grid[r][t][h][0]*np.sin(cylinder_grid[r][t][h][1] + z_axis_rot)*rate,\n",
    "                cylinder_grid[r][t][h][2]\n",
    "            ])\n",
    "            index = (cube_rotation.apply(cartessian_coordinates, inverse=True) * (np.sqrt(3) * edge_len)).astype(int)\n",
    "            cylinder_colors[r][t][h] = colors[index[0]][index[1]][index[2]]\n"
   ]
  },
  {
   "cell_type": "code",
   "execution_count": null,
   "metadata": {},
   "outputs": [],
   "source": [
    "plt.close(fig=6)\n",
    "plt.figure(num=6).add_subplot(projection='3d')\n",
    "# cylinder_grid[:, -1, :, 1] = 0 # does not fix bright plane at angle 0 degrees (red)\n",
    "plt.gca().voxels(cylinder_grid[..., 0] * np.cos(cylinder_grid[..., 1]), \n",
    "                 cylinder_grid[..., 0] * np.sin(cylinder_grid[..., 1]), \n",
    "                 cylinder_grid[..., 2], \n",
    "                 cylinder[:-1, :-1, :-1], facecolors=cylinder_colors[:-1, :-1, :-1], \n",
    "                 shade=False, alpha=0.4)\n",
    "plt.gca().set_xlabel(\"x\")\n",
    "plt.gca().set_ylabel(\"y\")\n",
    "plt.gca().set_zlabel(\"z\")\n",
    "plt.show()"
   ]
  },
  {
   "cell_type": "code",
   "execution_count": null,
   "metadata": {
    "scrolled": true
   },
   "outputs": [],
   "source": [
    "\n",
    "cone_shape = (\n",
    "    complex(0, int(180 / granularity)),\n",
    "    complex(0, int((180 / granularity) * 2 * np.pi)),\n",
    "    complex(0, int(edge_len))\n",
    ")\n",
    "cone_size = (1.0, 2*np.pi, 1.0)\n",
    "cone_grid = np.array(cylinder_grid)\n",
    "cone = cone_grid[..., 0] < cone_grid[..., 2]\n",
    "cone_surf = np.logical_and(cone_grid[..., 0] > (cone_grid[..., 2] - cone_grid[1, ..., 0]), cone)\n",
    "cone_surf_sector = np.logical_and(cone_grid[..., 1] < np.pi/2, cone_surf)\n",
    "\n",
    "# Crack!\n",
    "cone_grid_factors = np.arange(int(cone_shape[0].imag))\n",
    "cone_r_decrease_step = cone_grid[1, 0, 0, 0]\n",
    "cone_r_grid_step = np.empty(int(cone_shape[0].imag), dtype=np.float64)\n",
    "for h in range(int(cone_shape[2].imag)):\n",
    "    r = h * (cone_shape[0].imag / cone_shape[2].imag) * (cone_size[0] / cone_size[2])\n",
    "    r_dis = cone_shape[0].imag - r\n",
    "    cone_r_grid_step[:int(r_dis+1)] = cone_grid_factors[:int(r_dis+1)] * cone_r_decrease_step\n",
    "    cone_r_grid_step[int(r_dis+1):] = r_dis * cone_r_decrease_step\n",
    "    cone_grid[:, :, h, 0] -= np.reshape(cone_r_grid_step, newshape=(-1, 1))"
   ]
  },
  {
   "cell_type": "code",
   "execution_count": null,
   "metadata": {},
   "outputs": [],
   "source": [
    "\n",
    "plt.close(fig=7)\n",
    "plt.figure(num=7).add_subplot(projection='3d')\n",
    "plt.gca().voxels(cone_grid[..., 0] * np.cos(cylinder_grid[..., 1]), \n",
    "                 cone_grid[..., 0] * np.sin(cylinder_grid[..., 1]), \n",
    "                 cone_grid[..., 2], \n",
    "                 cylinder[:-1, :-1, :-1], facecolors=cylinder_colors[:-1, :-1, :-1], \n",
    "                 shade=False, alpha=0.4)\n",
    "plt.gca().set_xlabel(\"x\")\n",
    "plt.gca().set_ylabel(\"y\")\n",
    "plt.gca().set_zlabel(\"z\")\n",
    "plt.show()"
   ]
  },
  {
   "cell_type": "markdown",
   "metadata": {},
   "source": [
    "### *RGB to HS(V/I) conversion:*\n",
    "\n",
    "\\begin{equation}\n",
    "H = \\left[\n",
    "\\begin{split}\n",
    "& \\theta \\quad & \\textrm{if } B \\leq G, \\\\\n",
    "& 360^\\circ - \\theta \\quad & \\textrm{if } B > G\n",
    "\\end{split}\n",
    "\\right.\n",
    "\\end{equation}\n",
    "\n",
    "\\begin{equation}\n",
    "\\theta = \\arccos \\left(\n",
    "    \\frac{ \\frac{1}{2} \\left( \\left( R-G \\right) + \\left( R-B \\right) \\right) }\n",
    "        { \\left( \\left( R-G \\right) ^2 + \\left( R-B \\right) \\left( G-B \\right) \\right) ^ \\frac{1}{2}}\n",
    "\\right).\n",
    "\\end{equation}\n",
    "\n",
    "\\begin{equation}\n",
    "S = 1 - \\frac{3}{R+G+B} \\min \\left( R, G, B \\right)\n",
    "\\end{equation}\n",
    "\n",
    "\\begin{equation}\n",
    "I = \\frac{1}{3} \\left( R+G+B \\right)\n",
    "\\end{equation}\n",
    "\n",
    "### *RGB to CMY conversion:*\n",
    "\n",
    "\\begin{equation}\n",
    "\\left[ \\begin{matrix} c\\\\m\\\\y \\end{matrix} \\right]\n",
    "= \n",
    "\\left [\\begin{matrix} 1\\\\1\\\\1 \\end{matrix} \\right]\n",
    "-\n",
    "\\left[ \\begin{matrix} r\\\\g\\\\b \\end{matrix} \\right]\n",
    "\\end{equation}\n",
    "\n",
    "### *RGB to CMYK conversion:*\n",
    "\\begin{equation}\n",
    "\\left[ \\begin{matrix} c\\\\m\\\\y \\end{matrix} \\right]\n",
    "= \n",
    "\\left [\\begin{matrix} 1\\\\1\\\\1 \\end{matrix} \\right]\n",
    "-\n",
    "\\left[ \\begin{matrix} r\\\\g\\\\b \\end{matrix} \\right]\n",
    "- \\min\\left({r, g, b}\\right)\n",
    "\\end{equation}\n",
    "\n",
    "\\begin{equation}\n",
    "k = \\min\\left( r, g, b \\right)\n",
    "\\end{equation}\n",
    "\n",
    "### *CIE LAB definition:*\n",
    "\n",
    "\\begin{equation}\n",
    "L^* = 116 \\cdot h \\! \\left( \\frac{Y}{Y_W} \\right) -16, \n",
    "\\end{equation}\n",
    "\n",
    "\\begin{equation}\n",
    "a^* = 500 \\cdot \\left( h \\! \\left( \\frac{X}{X_W} \\right) - h \\! \\left( \\frac{Y}{Y_W} \\right) \\right)\n",
    "\\end{equation}\n",
    "\n",
    "\\begin{equation}\n",
    "b^* = 200 \\cdot \\left( h \\! \\left( \\frac{Y}{Y_W} \\right) - h \\! \\left( \\frac{Z}{Z_W} \\right) \\right)\n",
    "\\end{equation}\n",
    "\n",
    "\\begin{equation}\n",
    "h \\! \\left( q \\right) = \\left[\n",
    "    \\begin{split}\n",
    "        &\\sqrt[3]{q} \\quad & \\textrm{if } q > 0,00856, \\\\\n",
    "        &7,787q + 16/116 \\quad & \\textrm{if } q \\leq 0,00856\n",
    "    \\end{split}\n",
    "\\right.\n",
    "\\end{equation}\n",
    "\n",
    "\n",
    "### *RGB to Y(')CrCb conversion:*\n",
    "\n",
    "\\begin{equation}\n",
    "Y' = K_R \\cdot R' + \\left( 1 - K_R - K_B \\right) \\cdot C' + K_B \\cdot B'\n",
    "\\end{equation}\n",
    "\n",
    "\\begin{equation}\n",
    "P_B = \\frac{1}{2} \\cdot \\frac{B' - Y'}{1 - K_B}\n",
    "\\end{equation}\n",
    "\n",
    "\\begin{equation}\n",
    "P_B = \\frac{1}{2} \\cdot \\frac{R' - Y'}{1 - K_R}\n",
    "\\end{equation}\n"
   ]
  },
  {
   "cell_type": "code",
   "execution_count": null,
   "metadata": {},
   "outputs": [],
   "source": [
    "# RGB to CMY\n",
    "img_n = img.astype(np.float32) / 255\n",
    "img_cmy = 1 - img_n\n",
    "# RGB to HSV\n",
    "img_hsv = np.empty(shape=img.shape)\n",
    "#__temp = np.sqrt(np.power(img[..., 0] - img[..., 1], 2) + (img[..., 0] - img[..., 2]) * (img[..., 1] - img[..., 2]))\n",
    "_temp = 0.5 * ((img_n[..., 0] - img_n[..., 1]) + (img_n[..., 0] - img_n[..., 2]))\n",
    "__temp = np.sqrt(np.power(img_n[..., 0] - img_n[..., 1], 2.0) + (img_n[..., 0] - img_n[..., 2]) * (img_n[..., 1] - img_n[..., 2]))\n",
    "___temp = np.divide(_temp, __temp, where=__temp != 0)\n",
    "\n",
    "img_hsv[..., 0] = np.arccos(___temp)\n",
    "# Normilize angle to range [0, 1]\n",
    "img_hsv[..., 0] = np.where(img_n[..., 2] <= img_n[..., 1], img_hsv[..., 0], 2*np.pi - img_hsv[..., 0]) / (2 * np.pi)\n",
    "img_hsv[..., 1] = 1 - 3 / np.sum(img, axis=2) * np.amin(img, axis=2)\n",
    "img_hsv[..., 2] = np.sum(img_n, axis=2) / 3\n",
    "\n",
    "# Crack! Good try\n",
    "plt.close(fig=10)\n",
    "plt.figure(num=10).add_subplot()\n",
    "plt.gca().imshow(img_hsv, cmap='hsv')\n",
    "plt.show()"
   ]
  },
  {
   "cell_type": "markdown",
   "metadata": {},
   "source": [
    "# Drafts #"
   ]
  },
  {
   "cell_type": "code",
   "execution_count": null,
   "metadata": {},
   "outputs": [],
   "source": [
    "#cube_rotation = scipy.spatial.transform.Rotation.from_euler(\"XY\", (35, -45), degrees=True)\n",
    "#cube_rotation = scipy.spatial.transform.Rotation.from_euler(\"xy\", (45, -35), degrees=True)"
   ]
  },
  {
   "cell_type": "markdown",
   "metadata": {},
   "source": [
    " *Преобразования в разные цветовые схемы: RGB, CMYK, HSV, CIE YCbCr*\n",
    "\n",
    "\\begin{equation}\n",
    "e^x=\\sum_{i=0}^\\infty \\frac{1}{i!}x^i\n",
    "\\end{equation}\n",
    "\n",
    "_**Inline formula:**_ $e^{i\\pi} + 1 = 0$"
   ]
  },
  {
   "cell_type": "code",
   "execution_count": null,
   "metadata": {
    "pycharm": {
     "name": "#%%\n"
    }
   },
   "outputs": [],
   "source": [
    "cylinder_shape = (\n",
    "    complex(0, int(180 / granularity)),\n",
    "    complex(0, int((180 / granularity) * 2 * np.pi)),\n",
    "    complex(0, int(edge_len))\n",
    ")\n",
    "cylinder_size = (1.0, 2*np.pi, 1.0)\n",
    "cylinder_grid = np.mgrid[0:cylinder_size[0]:cylinder_shape[0], 0:cylinder_size[1]:cylinder_shape[1], 0:cylinder_size[2]:cylinder_shape[2]]\n",
    "corners = np.array(hsv_space[0:2, 0:2, 0:2, :] * (edge_len)).reshape((-1, 3)).astype(np.float64)\n",
    "order = [0, 1, 3, 7, 6, 4, 0, 1]\n",
    "planes = np.zeros(shape=(6, 4), dtype=np.float64)\n",
    "\n",
    "for p in range(len(order) - 2):\n",
    "    #print(f\"{p+1}.\\t{order[p]}. {corners[order[p]]}\\n\\t{order[p+1]}. {corners[order[p+1]]}\\n\\t{order[p+2]}. {corners[order[p+2]]}\")\n",
    "    planes[p][0:3] = np.cross(corners[order[p]] - corners[order[p+1]], corners[order[p+2]] - corners[order[p+1]])\n",
    "    planes[p][3] = np.sum(planes[p][0:3] * corners[order[p+1]])\n",
    "\n",
    "equations = np.zeros(shape=(6, 3, 4), dtype=np.float64)\n",
    "equations[:, 0, :] = planes\n",
    "#cylinder = ((cylinder_grid[0] * np.cos(cylinder_grid[1])) ** 2 + (cylinder_grid[0] * np.sin(cylinder_grid[1])) ** 2 < 0.25)\n",
    "cylinder = cylinder_grid[0] < cylinder_size[0]\n",
    "cylinder_grid = cylinder_grid.transpose((1, 2, 3, 0)).astype(np.float64)\n",
    "cylinder_colors = np.zeros(shape=cylinder_grid.shape)\n",
    "\n",
    "border_crossings = []\n",
    "planed_vectors = []\n",
    "crossings_dist = []\n",
    "contained_points = []\n",
    "\n",
    "__fill_voxels = np.full(cylinder.shape, False, dtype=bool)\n",
    "for h in range(int(cylinder_shape[2].imag)-1): # decrease range by 1\n",
    "    center = np.array([0, 0, cylinder_grid[0][0][h][2]])\n",
    "    print(f\"{center}\")\n",
    "    equations[:, 1, :] =  np.array([0, 0, 1, cylinder_grid[0][0][h][2]])\n",
    "    for t in range(int(cylinder_shape[1].imag)-1): # decrease range by 1\n",
    "        equations[:, 2, :] = np.array([np.cos(cylinder_grid[0][t][h][1] - np.pi/2 - z_axis_rot), -np.sin(cylinder_grid[0][t][h][1] - np.pi/2 - z_axis_rot), 0, 0])\n",
    "        scale_points = np.linalg.solve(equations[:, :, 0:3], np.squeeze(equations[:, :, 3]))\n",
    "        scale_norms = np.linalg.norm(scale_points - center, axis=1)\n",
    "        direction_vector = np.array([np.cos(cylinder_grid[0][t][h][1] - z_axis_rot), -np.sin(cylinder_grid[0][t][h][1] - z_axis_rot), 0])\n",
    "        for point in scale_points:\n",
    "            crossings_dist.append(np.linalg.norm(point - center))\n",
    "        border_crossings.append(scale_points[np.argmin(scale_norms)])\n",
    "        border_crossings.append(scale_points[np.argmin(scale_norms)] * np.array([-1, -1, 1]))\n",
    "        direction_mask = np.argwhere(np.all(scale_points * direction_vector >= 0, axis=1))\n",
    "        d = np.amin(scale_norms[direction_mask])\n",
    "        #print(f\"{scale_norms}: min={d}; scale_points.shape={scale_points.shape}\")\n",
    "        rate = d / cylinder_size[0]\n",
    "        for r in range(int(cylinder_shape[0].imag)): # decrease range by 1\n",
    "            transformed_coordinates = np.array([\n",
    "                cylinder_grid[r][t][h][0]*np.cos(cylinder_grid[r][t][h][1] + z_axis_rot)*rate,\n",
    "                cylinder_grid[r][t][h][0]*np.sin(cylinder_grid[r][t][h][1] + z_axis_rot)*rate,\n",
    "                cylinder_grid[r][t][h][2]\n",
    "            ])\n",
    "            contained_points.append(transformed_coordinates)\n",
    "            index = cube_rotation.apply(transformed_coordinates*np.sqrt(3), inverse=True)\n",
    "            index *=  edge_len\n",
    "            index = index.astype(int)\n",
    "\n",
    "            if np.all(index == np.array([31, 0, 0])):\n",
    "                print(f\"Red: ({r}, {t}, {h})\")\n",
    "            cylinder_colors[r][t][h] = colors[index[0]][index[1]][index[2]]\n",
    "\n",
    "__boundary_points = np.array(border_crossings)\n",
    "__contained_points = np.array(contained_points)\n",
    "__corners = np.reshape(corners, newshape=(2, 2, 2, 3))\n",
    "\n",
    "plt.close(fig=4)\n",
    "plt.figure(num=4).add_subplot(projection='3d')\n",
    "#plt.gca().voxels(cylinder_grid[..., 0] * np.cos(cylinder_grid[..., 1]), cylinder_grid[..., 0] * np.sin(cylinder_grid[..., 1]), cylinder_grid[..., 2], cylinder[:-1, :-1, :-1], facecolors=cylinder_colors[:-1, :-1, :-1])\n",
    "plt.gca().voxels(__corners[..., 0], __corners[..., 1], __corners[..., 2], cube[:1, :1, :1], facecolors=colors[-1:, :1, :1], edgecolors=colors[:1, :1, -1:], shade=False, alpha=0.3)\n",
    "#plt.gca().scatter(__boundary_points[..., 0], __boundary_points[..., 1], __boundary_points[..., 2], marker='o')\n",
    "plt.gca().scatter(__contained_points[0:-1:3,..., 0], __contained_points[0:-1:3,..., 1], __contained_points[0:-1:3,..., 2], marker='o')\n",
    "plt.show()"
   ]
  },
  {
   "cell_type": "code",
   "execution_count": null,
   "metadata": {},
   "outputs": [],
   "source": [
    "plt.close(fig=5)\n",
    "plt.figure(num=5).add_subplot(projection='3d')\n",
    "plt.gca().voxels(__corners[..., 0], __corners[..., 1], __corners[..., 2], cube[:1, :1, :1], facecolors=colors[-1:, :1, :1], edgecolors=colors[:1, :1, -1:], shade=False, alpha=0.3)\n",
    "plt.gca().scatter(__boundary_points[..., 0], __boundary_points[..., 1], __boundary_points[..., 2], marker='o')\n",
    "plt.show()"
   ]
  },
  {
   "cell_type": "code",
   "execution_count": null,
   "metadata": {},
   "outputs": [],
   "source": [
    "__cp_indicies = np.argwhere(np.logical_and(__contained_points[:, 2] > 0.48, __contained_points[:, 2] < 0.50))\n",
    "__bp_indicies = np.argwhere(__boundary_points[..., 2] > 0.48)\n",
    "\n",
    "plt.close(fig=6)\n",
    "plt.figure(num=6).add_subplot(projection='3d')\n",
    "plt.gca().scatter(__contained_points[__cp_indicies][0:-1:1, ..., 0], __contained_points[__cp_indicies][0:-1:1, ..., 1], __contained_points[__cp_indicies][0:-1:1, ..., 2], marker='1')\n",
    "plt.gca().scatter(__boundary_points[__bp_indicies][..., 0], __boundary_points[__bp_indicies][..., 1], __boundary_points[__bp_indicies][..., 2], marker='.')\n",
    "plt.show()"
   ]
  },
  {
   "cell_type": "code",
   "execution_count": null,
   "metadata": {},
   "outputs": [],
   "source": [
    "__cp_indicies = np.argwhere(np.logical_and(__contained_points[:, 2] > 0.58, __contained_points[:, 2] < 0.60))\n",
    "__bp_indicies = np.argwhere(__boundary_points[..., 2] > 0.58)\n",
    "\n",
    "plt.close(fig=7)\n",
    "plt.figure(num=7).add_subplot(projection='3d')\n",
    "plt.gca().scatter(__contained_points[__cp_indicies][0:-1:1, ..., 0], __contained_points[__cp_indicies][0:-1:1, ..., 1], __contained_points[__cp_indicies][0:-1:1, ..., 2], marker='1')\n",
    "plt.gca().scatter(__boundary_points[__bp_indicies][..., 0], __boundary_points[__bp_indicies][..., 1], __boundary_points[__bp_indicies][..., 2], marker='.')\n",
    "plt.show()"
   ]
  },
  {
   "cell_type": "code",
   "execution_count": null,
   "metadata": {},
   "outputs": [],
   "source": [
    "__r_corners = np.reshape(cube_rotation.apply(np.reshape(__corners, newshape=(-1, 3)), inverse=True), newshape=__corners.shape)\n",
    "__r_contained_points = cube_rotation.apply(__contained_points, inverse=True)\n",
    "\n",
    "\n",
    "plt.close(fig=7)\n",
    "plt.figure(num=7).add_subplot(projection='3d')\n",
    "plt.gca().voxels(__r_corners[..., 0], __r_corners[..., 1], __r_corners[..., 2], cube[:1, :1, :1], facecolors=colors[-1:, :1, :1], edgecolors=colors[:1, :1, -1:], shade=False, alpha=0.3)\n",
    "#plt.gca().scatter(__boundary_points[..., 0], __boundary_points[..., 1], __boundary_points[..., 2], marker='o')\n",
    "plt.gca().scatter(__r_contained_points[0:-1:3,..., 0], __r_contained_points[0:-1:3,..., 1], __r_contained_points[0:-1:3,..., 2], marker='o')\n",
    "plt.show()"
   ]
  },
  {
   "cell_type": "code",
   "execution_count": null,
   "metadata": {},
   "outputs": [],
   "source": [
    "__sr_corners = __r_corners * np.sqrt(3) * edge_len\n",
    "__sr_contained_points = __r_contained_points * np.sqrt(3) * edge_len\n",
    "\n",
    "plt.close(fig=8)\n",
    "plt.figure(num=8).add_subplot(projection='3d')\n",
    "plt.gca().voxels(__sr_corners[..., 0], __sr_corners[..., 1], __sr_corners[..., 2], cube[:1, :1, :1], facecolors=colors[-1:, :1, :1], edgecolors=colors[:1, :1, -1:], shade=False, alpha=0.3)\n",
    "#plt.gca().scatter(__boundary_points[..., 0], __boundary_points[..., 1], __boundary_points[..., 2], marker='o')\n",
    "plt.gca().scatter(__sr_contained_points[0:-1:3,..., 0], __sr_contained_points[0:-1:3,..., 1], __sr_contained_points[0:-1:3,..., 2], marker='o')\n",
    "plt.show()"
   ]
  },
  {
   "cell_type": "code",
   "execution_count": null,
   "metadata": {},
   "outputs": [],
   "source": [
    "__sr_outband_points_collection = []\n",
    "for point in __sr_contained_points:\n",
    "    if(np.any(point < -0)):\n",
    "        __sr_outband_points_collection.append(point)\n",
    "__sr_outband_points = np.array(__sr_outband_points_collection)\n",
    "\n",
    "plt.close(fig=9)\n",
    "plt.figure(num=9).add_subplot(projection='3d')\n",
    "plt.gca().voxels(__sr_corners[..., 0], __sr_corners[..., 1], __sr_corners[..., 2], cube[:1, :1, :1], facecolors=colors[-1:, :1, :1], edgecolors=colors[:1, :1, -1:], shade=False, alpha=0.3)\n",
    "#plt.gca().scatter(__boundary_points[..., 0], __boundary_points[..., 1], __boundary_points[..., 2], marker='o')\n",
    "plt.gca().scatter(__sr_outband_points[..., 0], __sr_outband_points[..., 1], __sr_outband_points[..., 2], marker='o')\n",
    "plt.show()"
   ]
  },
  {
   "cell_type": "code",
   "execution_count": null,
   "metadata": {},
   "outputs": [],
   "source": [
    "__obp_indicies = np.argwhere(__sr_contained_points < 0)\n",
    "__outband_points = __contained_points[np.argwhere(__sr_contained_points < 0)]\n",
    "print(__obp_indicies.shape)\n",
    "print(__outband_points.shape)\n",
    "\n",
    "plt.close(fig=10)\n",
    "plt.figure(num=10).add_subplot(projection='3d')\n",
    "plt.gca().voxels(__corners[..., 0], __corners[..., 1], __corners[..., 2], cube[:1, :1, :1], facecolors=colors[-1:, :1, :1], edgecolors=colors[:1, :1, -1:], shade=False, alpha=0.3)\n",
    "plt.gca().scatter(__outband_points[..., 0], __outband_points[..., 1], __outband_points[..., 2], marker='o')\n",
    "plt.show()"
   ]
  },
  {
   "cell_type": "code",
   "execution_count": null,
   "metadata": {},
   "outputs": [],
   "source": [
    "__line_r_range = np.linspace(-3, 3, num=100)\n",
    "__line_angle = np.pi / 6\n",
    "plt.close(fig=11)\n",
    "plt.figure(num=11)\n",
    "plt.gca().axis('equal')\n",
    "plt.gca().grid(True)\n",
    "plt.gca().plot(__line_r_range * np.cos(__line_angle), __line_r_range * np.sin(__line_angle), label='forward')\n",
    "plt.gca().plot(__line_r_range * np.cos(__line_angle - np.pi/2), __line_r_range * np.sin(__line_angle - np.pi/2), label='rotated')\n",
    "plt.gca().plot(__line_r_range * np.cos(__line_angle), -__line_r_range * np.sin(__line_angle), label='inverse')\n",
    "plt.gcf().legend()\n",
    "plt.show()"
   ]
  },
  {
   "cell_type": "code",
   "execution_count": null,
   "metadata": {
    "pycharm": {
     "name": "#%%\n"
    }
   },
   "outputs": [],
   "source": [
    "temp = np.array(border_crossings)\n",
    "__d_temp = np.array(crossings_dist)\n",
    "__rc_temp = np.array(planed_vectors)\n",
    "#print(np.argwhere(__fill_voxels == True))\n",
    "for i in range(1600, 1600):\n",
    "    print(f\"{__rc_temp[i]}: {__d_temp[i]}\")\n",
    "#temp = np.reshape(temp, newshape=(3, -1))\n",
    "\n",
    "_border_crossings = np.reshape(np.array(border_crossings), (-1, 3))\n",
    "\n",
    "surf_base = np.meshgrid(np.linspace(-5, 5, 10), np.linspace(-5, 5, 10))\n",
    "surf_points = np.zeros(shape=(6, 10, 10, 3))\n",
    "for i in range(planes.shape[0]):\n",
    "    surf_points[i, :, :, 0] = surf_base[0]\n",
    "    surf_points[i, :, :, 1] = surf_base[1]\n",
    "    surf_points[i, :, :, 2] = (surf_base[0] * planes[i][0] + surf_base[1] * planes[i][1] - planes[i][3]) / (-planes[i][2])\n",
    "\n",
    "_surf_points = np.reshape(surf_points, (6, -1, 3))\n",
    "\n",
    "#for j in range(planes.shape[0]):\n",
    "#    for i in range(planes.shape[0]):\n",
    "#        print(np.dot(planes[j][0:3], planes[i][0:3]))\n",
    "\n",
    "plt.close(fig=8)\n",
    "plt.figure(num=8).add_subplot(projection='3d')\\\n",
    "    .voxels(cylinder_grid[..., 0] * np.cos(cylinder_grid[..., 1]), cylinder_grid[..., 0] * np.sin(cylinder_grid[..., 1]), cylinder_grid[..., 2], cylinder[:-1, :-1, :-1], facecolors=cylinder_colors[:-1, :-1, :-1], shade=False)\n",
    "\n",
    "#plt.gca().scatter(temp[0:100, 0], temp[0:100, 1], temp[0:100, 2], marker='^')\n",
    "surf_cmaps = [\"Greens\", \"Reds\", \"Blues\", \"ocean\", \"Oranges\", \"Greys\"]\n",
    "\n",
    "for i in []:\n",
    "    plt.gca().plot_surface(surf_points[i][:, :, 0], surf_points[i][:, :, 1], surf_points[i][:, :, 2], cmap=surf_cmaps[i])\n",
    "#for p in range(surf_points.shape[0]):\n",
    "#    plt.gca().plot_surface(surf_points[p][:, :, 0], surf_points[p][:, :, 1], surf_points[p][:, :, 2], cmap=surf_cmaps[p])\n",
    "plt.show()"
   ]
  },
  {
   "cell_type": "code",
   "execution_count": null,
   "metadata": {},
   "outputs": [],
   "source": [
    "print(cylinder_grid[:, -1, :, 0] * np.cos(cylinder_grid[:, -1, :, 1]) - cylinder_grid[:, 0, :, 0] * np.cos(cylinder_grid[:, 0, :, 1]))"
   ]
  }
 ],
 "metadata": {
  "kernelspec": {
   "display_name": "Python 3 (ipykernel)",
   "language": "python",
   "name": "python3"
  },
  "language_info": {
   "codemirror_mode": {
    "name": "ipython",
    "version": 3
   },
   "file_extension": ".py",
   "mimetype": "text/x-python",
   "name": "python",
   "nbconvert_exporter": "python",
   "pygments_lexer": "ipython3",
   "version": "3.9.6"
  }
 },
 "nbformat": 4,
 "nbformat_minor": 1
}
